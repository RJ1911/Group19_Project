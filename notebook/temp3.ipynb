{
 "cells": [
  {
   "cell_type": "code",
   "execution_count": 1,
   "metadata": {},
   "outputs": [],
   "source": [
    "import pandas as pd"
   ]
  },
  {
   "cell_type": "code",
   "execution_count": 2,
   "metadata": {},
   "outputs": [],
   "source": [
    "df = pd.read_csv('final_resume_dataset.csv', encoding='latin1')\n"
   ]
  },
  {
   "cell_type": "code",
   "execution_count": 7,
   "metadata": {},
   "outputs": [],
   "source": [
    "# category_mapping = {\n",
    "#     \"PMO\": \"Project Management\", \n",
    "#     \"Python Developer\": \"Python\",  \n",
    "#     \"Database\": \"Database_Administrator\",  \n",
    "#     \"Network Security Engineer\": \"Network_Administrator\", \n",
    "# }\n"
   ]
  },
  {
   "cell_type": "code",
   "execution_count": 13,
   "metadata": {},
   "outputs": [
    {
     "name": "stdout",
     "output_type": "stream",
     "text": [
      "Count of unique values in 'category' column: 34\n"
     ]
    }
   ],
   "source": [
    "unique_category_count = df['category'].nunique()\n",
    "print(f\"Count of unique values in 'category' column: {unique_category_count}\")"
   ]
  },
  {
   "cell_type": "code",
   "execution_count": 26,
   "metadata": {},
   "outputs": [
    {
     "name": "stderr",
     "output_type": "stream",
     "text": [
      "C:\\Users\\Dell\\AppData\\Local\\Temp\\ipykernel_6188\\3314729575.py:1: FutureWarning: DataFrame.fillna with 'method' is deprecated and will raise in a future version. Use obj.ffill() or obj.bfill() instead.\n",
      "  df.fillna(method='bfill', inplace=True)\n"
     ]
    }
   ],
   "source": [
    "# df.fillna(method='bfill', inplace=True)"
   ]
  },
  {
   "cell_type": "code",
   "execution_count": 14,
   "metadata": {},
   "outputs": [],
   "source": [
    "category_value_counts = df['category'].value_counts()\n",
    "\n",
    "# Resetting the index to remove multi-level index\n",
    "category_value_counts_reset = category_value_counts.reset_index()\n",
    "\n",
    "# Save unique values and their counts to a CSV file\n",
    "category_value_counts_reset.to_csv(\"category_counts.csv\", header=['category', 'count'], index_label='unique_value')\n"
   ]
  },
  {
   "cell_type": "code",
   "execution_count": 15,
   "metadata": {},
   "outputs": [],
   "source": [
    "import numpy as np\n"
   ]
  },
  {
   "cell_type": "code",
   "execution_count": 28,
   "metadata": {},
   "outputs": [],
   "source": [
    "import re\n",
    "import nltk\n",
    "from bs4 import BeautifulSoup\n",
    "\n",
    "def cleanResume2(html_data):\n",
    "    # Remove HTML tags\n",
    "    soup = BeautifulSoup(html_data)\n",
    "    text = soup.get_text()\n",
    "\n",
    "    # Remove unwanted characters\n",
    "    text = re.sub(r'[^\\w\\s]', '', text)\n",
    "\n",
    "    # Normalize text\n",
    "    text = text.lower()\n",
    "    text = nltk.PorterStemmer().stem(text)\n",
    "\n",
    "    # Remove stop words\n",
    "    stopwords = nltk.corpus.stopwords.words('english')\n",
    "    text = ' '.join([word for word in text.split() if word not in stopwords])\n",
    "\n",
    "    # Remove punctuation\n",
    "    text = re.sub(r'[^\\w\\s]', '', text)\n",
    "\n",
    "    # Handling contractions\n",
    "    text = nltk.word_tokenize(text)\n",
    "    text = [nltk.WordNetLemmatizer().lemmatize(word) for word in text]\n",
    "    text = ' '.join(text)\n",
    "\n",
    "    # Removing Non−Textual Elements\n",
    "    text = re.sub(r'\\[[^\\]]+\\]', '', text)\n",
    "    return text"
   ]
  },
  {
   "cell_type": "code",
   "execution_count": 30,
   "metadata": {},
   "outputs": [
    {
     "name": "stdout",
     "output_type": "stream",
     "text": [
      "database_administratorjunior database administrator junior database administrator washington dc install configure sql server undertake administering sql server 20122014 2016 2017 production nonproduction environment experienced using relational database service microsoft tool window application tsql sql server management studio ssis sql server configuration manager onenote sharepoint outlook powerpoints microsoft access excel proficient core dba task installation migration configuration designing implementing disaster recovery procedure excellent problemsolving ability good team player ability learn newly emerging technology proficient sql management studio sql server agent sql profiler restore database using full deferential log backup experience developing tsqlddl dml dcl statement hand experience database administration role including server installation configuration upgrade maintenance performance tuning automating job ensure database security integrity experience solving realtime issue index fragmentation dbcc check query tuning experience normalization database design performance analysis production support excellent communication planning organizing problemsolving skill ability work independently well effectively collaborating team member level management competent writing troubleshooting store procedure experienced communication presentation people skill proactive learner capable master implement new technology analytical skill problem solver innovative excellent team player high collaborator selfstarter area expertise knowledge include installationconfiguration sql server migration maintenance troubleshooting database security index tuning management sql profiler ssis database design database encryption replication monitor database activity query tsql backup restore tde encryption mirroring log shipping clustering manage sql server instance configure data access permission m access vba formsreportsmacrosmodules m excel vba formsmacroschartspivot table bi tool tableau desktop tableau server work experience junior database administrator freddie mac 2014 present installed configured administered m sql server 2012 2014 2016 2017 create new database object like table procedure function index view using tsql database backup procedure restoration procedure disaster recovery procedure contingency plan tested implemented procedure hand experience performance tuning optimization ensure database stability configure log shipping multiple database part disaster recovery monitor success failure automated job monitored system availability documentation database worked permission request database access manage storage requirement manage monitor sql server instance create demand report using advanced tsql script tuning optimizing query tuning query running slow using profiler statistic proactive approach resolving anticipated database issue utilize available tool research external tool maintain custom sql alert diagnose troubleshoot issue education bachelor computer science university district columbia skill dba sql server sql dba mysql\n"
     ]
    }
   ],
   "source": [
    "r1 = \"\"\"Database_Administrator,\"Junior Database Administrator Junior <span class=\"\"hl\"\">Database</span> <span class=\"\"hl\"\">Administrator</span> Washington, DC • Install and configure SQL servers  • Undertake administering SQL Server 2012/2014 /2016 and 2017 in a production and non-production environment.  • Experienced using Relational Database Services, Microsoft Tools and Windows Applications (T-SQL, SQL Server Management Studio, SSIS, SQL Server Configuration Manager, OneNote, SharePoint, Outlook, PowerPoints, Microsoft access and Excel)  • Proficient in core DBA tasks: installation, migration, configuration, designing and implementing disaster recovery procedures, excellent problem-solving ability, a good team player and ability to learn newly emerging technologies.  • Proficient with SQL Management Studio, SQL Server Agent, SQL Profiler, restore databases using full, deferential and log backups  • Experience in developing T-SQL(DDL, DML and DCL) statements  • Hands on experience in database administration roles including server installation, configuration, upgrade, maintenance, performance tuning, automating jobs, ensure database security and integrity  • Experience in solving real-time issues such as Index fragmentation, DBCC checks, Query Tuning  • Experience in normalization, database design, performance analysis and production support  • Excellent communication, planning, organizing and problem-solving skill with the ability to work independently as well as effectively collaborating with team members and all levels of management  • Competent in writing and troubleshooting store procedures  • Experienced in communication, presentation and people skill  • Proactive learner and capable to master and implement new technologies  • Analytical skill, problem solver and innovative  • Excellent team player, high collaborator and self-starter    Areas of Expertise & knowledge Include:    • Installation/Configuration  • SQL Server Migration  • Maintenance and troubleshooting  • Database Security  • Index Tuning and management  • SQL Profiler  • SSIS Database Design  • Database Encryption  • Replication  • Monitor database activity & queries  • T-SQL  • Backup and Restore  • TDE Encryption  • Mirroring and Log Shipping  • Clustering  • Manage SQL server instance  • Configure data access and  permissions  • MS Access VBA (Forms/Reports/Macros/Modules)  • MS Excel VBA (Forms/Macros/Charts/Pivot tables)  • BI Tools: Tableau Desktop, Tableau Server Work Experience Junior Database Administrator FREDDIE MAC 2014 to Present • Installed, configured and administered MS SQL server 2012, 2014, 2016 and 2017.  • Create new database objects like Tables, Procedures, Functions, Indexes and Views using T-SQL  • Database Backup Procedures, Restoration Procedures, Disaster Recovery procedures and Contingency plans. Tested and Implemented these procedures.  • Hands on experience in performance tuning and optimization to ensure database stability.  • Configure log shipping for multiple databases as part of Disaster recovery.  • Monitor success and failure of automated jobs, monitored system availability, documentation of database  • Worked on permission requests for database access.  • Manage storage requirements  • Manage and monitor SQL server instances  • Create on demand report using advanced T-SQL scripts  • Tuning and optimizing query, tuning queries which are running slow using profiler and statistics  • Proactive approach to resolving any anticipated database issues. Utilize available tools, research external tools and maintain custom SQL alerts to diagnose and troubleshoot issues. Education Bachelors Computer Science University of the District Of Columbia Skills DBA, Sql Server, Sql Dba, MYSQL\"\n",
    "\"\n",
    "\"\"\"\n",
    "print(cleanResume2(r1))"
   ]
  },
  {
   "cell_type": "code",
   "execution_count": 31,
   "metadata": {},
   "outputs": [],
   "source": [
    "# df['resume'] = df['resume'].apply(lambda x: cleanResume(x))\n",
    "df['resume'] = df['resume'].apply(cleanResume2)\n",
    "\n"
   ]
  },
  {
   "cell_type": "code",
   "execution_count": 17,
   "metadata": {},
   "outputs": [
    {
     "data": {
      "text/html": [
       "<div>\n",
       "<style scoped>\n",
       "    .dataframe tbody tr th:only-of-type {\n",
       "        vertical-align: middle;\n",
       "    }\n",
       "\n",
       "    .dataframe tbody tr th {\n",
       "        vertical-align: top;\n",
       "    }\n",
       "\n",
       "    .dataframe thead th {\n",
       "        text-align: right;\n",
       "    }\n",
       "</style>\n",
       "<table border=\"1\" class=\"dataframe\">\n",
       "  <thead>\n",
       "    <tr style=\"text-align: right;\">\n",
       "      <th></th>\n",
       "      <th>Encoded_Label</th>\n",
       "      <th>Category</th>\n",
       "    </tr>\n",
       "  </thead>\n",
       "  <tbody>\n",
       "    <tr>\n",
       "      <th>0</th>\n",
       "      <td>8</td>\n",
       "      <td>Database_Administrator</td>\n",
       "    </tr>\n",
       "    <tr>\n",
       "      <th>1</th>\n",
       "      <td>30</td>\n",
       "      <td>Systems_Administrator</td>\n",
       "    </tr>\n",
       "    <tr>\n",
       "      <th>2</th>\n",
       "      <td>23</td>\n",
       "      <td>Project_manager</td>\n",
       "    </tr>\n",
       "    <tr>\n",
       "      <th>3</th>\n",
       "      <td>29</td>\n",
       "      <td>Software_Developer</td>\n",
       "    </tr>\n",
       "    <tr>\n",
       "      <th>4</th>\n",
       "      <td>33</td>\n",
       "      <td>Web_Developer</td>\n",
       "    </tr>\n",
       "    <tr>\n",
       "      <th>5</th>\n",
       "      <td>28</td>\n",
       "      <td>Security_Analyst</td>\n",
       "    </tr>\n",
       "    <tr>\n",
       "      <th>6</th>\n",
       "      <td>20</td>\n",
       "      <td>Network_Administrator</td>\n",
       "    </tr>\n",
       "    <tr>\n",
       "      <th>7</th>\n",
       "      <td>17</td>\n",
       "      <td>Java_Developer</td>\n",
       "    </tr>\n",
       "    <tr>\n",
       "      <th>8</th>\n",
       "      <td>25</td>\n",
       "      <td>Python_Developer</td>\n",
       "    </tr>\n",
       "    <tr>\n",
       "      <th>9</th>\n",
       "      <td>6</td>\n",
       "      <td>Data Science</td>\n",
       "    </tr>\n",
       "    <tr>\n",
       "      <th>10</th>\n",
       "      <td>13</td>\n",
       "      <td>HR</td>\n",
       "    </tr>\n",
       "    <tr>\n",
       "      <th>11</th>\n",
       "      <td>0</td>\n",
       "      <td>Advocate</td>\n",
       "    </tr>\n",
       "    <tr>\n",
       "      <th>12</th>\n",
       "      <td>1</td>\n",
       "      <td>Arts</td>\n",
       "    </tr>\n",
       "    <tr>\n",
       "      <th>13</th>\n",
       "      <td>32</td>\n",
       "      <td>Web Designing</td>\n",
       "    </tr>\n",
       "    <tr>\n",
       "      <th>14</th>\n",
       "      <td>18</td>\n",
       "      <td>Mechanical Engineer</td>\n",
       "    </tr>\n",
       "    <tr>\n",
       "      <th>15</th>\n",
       "      <td>27</td>\n",
       "      <td>Sales</td>\n",
       "    </tr>\n",
       "    <tr>\n",
       "      <th>16</th>\n",
       "      <td>15</td>\n",
       "      <td>Health and fitness</td>\n",
       "    </tr>\n",
       "    <tr>\n",
       "      <th>17</th>\n",
       "      <td>5</td>\n",
       "      <td>Civil Engineer</td>\n",
       "    </tr>\n",
       "    <tr>\n",
       "      <th>18</th>\n",
       "      <td>16</td>\n",
       "      <td>Java Developer</td>\n",
       "    </tr>\n",
       "    <tr>\n",
       "      <th>19</th>\n",
       "      <td>4</td>\n",
       "      <td>Business Analyst</td>\n",
       "    </tr>\n",
       "    <tr>\n",
       "      <th>20</th>\n",
       "      <td>26</td>\n",
       "      <td>SAP Developer</td>\n",
       "    </tr>\n",
       "    <tr>\n",
       "      <th>21</th>\n",
       "      <td>2</td>\n",
       "      <td>Automation Testing</td>\n",
       "    </tr>\n",
       "    <tr>\n",
       "      <th>22</th>\n",
       "      <td>12</td>\n",
       "      <td>Electrical Engineering</td>\n",
       "    </tr>\n",
       "    <tr>\n",
       "      <th>23</th>\n",
       "      <td>21</td>\n",
       "      <td>Operations Manager</td>\n",
       "    </tr>\n",
       "    <tr>\n",
       "      <th>24</th>\n",
       "      <td>24</td>\n",
       "      <td>Python Developer</td>\n",
       "    </tr>\n",
       "    <tr>\n",
       "      <th>25</th>\n",
       "      <td>9</td>\n",
       "      <td>DevOps Engineer</td>\n",
       "    </tr>\n",
       "    <tr>\n",
       "      <th>26</th>\n",
       "      <td>19</td>\n",
       "      <td>Network Security Engineer</td>\n",
       "    </tr>\n",
       "    <tr>\n",
       "      <th>27</th>\n",
       "      <td>22</td>\n",
       "      <td>PMO</td>\n",
       "    </tr>\n",
       "    <tr>\n",
       "      <th>28</th>\n",
       "      <td>7</td>\n",
       "      <td>Database</td>\n",
       "    </tr>\n",
       "    <tr>\n",
       "      <th>29</th>\n",
       "      <td>14</td>\n",
       "      <td>Hadoop</td>\n",
       "    </tr>\n",
       "    <tr>\n",
       "      <th>30</th>\n",
       "      <td>11</td>\n",
       "      <td>ETL Developer</td>\n",
       "    </tr>\n",
       "    <tr>\n",
       "      <th>31</th>\n",
       "      <td>10</td>\n",
       "      <td>DotNet Developer</td>\n",
       "    </tr>\n",
       "    <tr>\n",
       "      <th>32</th>\n",
       "      <td>3</td>\n",
       "      <td>Blockchain</td>\n",
       "    </tr>\n",
       "    <tr>\n",
       "      <th>33</th>\n",
       "      <td>31</td>\n",
       "      <td>Testing</td>\n",
       "    </tr>\n",
       "  </tbody>\n",
       "</table>\n",
       "</div>"
      ],
      "text/plain": [
       "    Encoded_Label                   Category\n",
       "0               8     Database_Administrator\n",
       "1              30      Systems_Administrator\n",
       "2              23            Project_manager\n",
       "3              29         Software_Developer\n",
       "4              33              Web_Developer\n",
       "5              28           Security_Analyst\n",
       "6              20      Network_Administrator\n",
       "7              17             Java_Developer\n",
       "8              25           Python_Developer\n",
       "9               6               Data Science\n",
       "10             13                         HR\n",
       "11              0                   Advocate\n",
       "12              1                       Arts\n",
       "13             32              Web Designing\n",
       "14             18        Mechanical Engineer\n",
       "15             27                      Sales\n",
       "16             15         Health and fitness\n",
       "17              5             Civil Engineer\n",
       "18             16             Java Developer\n",
       "19              4           Business Analyst\n",
       "20             26              SAP Developer\n",
       "21              2         Automation Testing\n",
       "22             12     Electrical Engineering\n",
       "23             21         Operations Manager\n",
       "24             24           Python Developer\n",
       "25              9            DevOps Engineer\n",
       "26             19  Network Security Engineer\n",
       "27             22                        PMO\n",
       "28              7                   Database\n",
       "29             14                     Hadoop\n",
       "30             11              ETL Developer\n",
       "31             10           DotNet Developer\n",
       "32              3                 Blockchain\n",
       "33             31                    Testing"
      ]
     },
     "execution_count": 17,
     "metadata": {},
     "output_type": "execute_result"
    }
   ],
   "source": [
    "import pandas as pd\n",
    "from sklearn.preprocessing import LabelEncoder\n",
    "\n",
    "\n",
    "\n",
    "# Assuming 'category' is the column you want to label encode\n",
    "categories = df['category']  # Replace 'category' with your actual column name\n",
    "\n",
    "# Initialize LabelEncoder\n",
    "label_encoder = LabelEncoder()\n",
    "\n",
    "# Fit and transform the categories to label encoded values\n",
    "encoded_labels = label_encoder.fit_transform(categories)\n",
    "\n",
    "# Create a dictionary to store the mapping of label encoded values to category names\n",
    "label_mapping = dict(zip(encoded_labels, categories))\n",
    "\n",
    "# Save the label encoding mapping to a CSV file\n",
    "label_mapping_df = pd.DataFrame(list(label_mapping.items()), columns=['Encoded_Label', 'Category'])\n",
    "label_mapping_df.to_csv('label_mapping.csv', index=False)\n",
    "label_mapping_df"
   ]
  },
  {
   "cell_type": "code",
   "execution_count": 19,
   "metadata": {},
   "outputs": [],
   "source": [
    "from sklearn.feature_extraction.text import TfidfVectorizer\n",
    "tfidf = TfidfVectorizer(stop_words='english')\n",
    "\n",
    "tfidf.fit(df['resume'])\n",
    "requiredText  = tfidf.transform(df['resume'])\n",
    "\n",
    "# from sklearn.feature_extraction.text import CountVectorizer\n",
    "\n",
    "# count_vectorizer = CountVectorizer(stop_words='english')\n",
    "# count_vectorizer.fit(df['resume'])\n",
    "# requiredText = count_vectorizer.transform(df['resume'])\n"
   ]
  },
  {
   "cell_type": "code",
   "execution_count": 20,
   "metadata": {},
   "outputs": [],
   "source": [
    "from sklearn.model_selection import train_test_split"
   ]
  },
  {
   "cell_type": "code",
   "execution_count": 21,
   "metadata": {},
   "outputs": [],
   "source": [
    "X_train, X_test, y_train, y_test = train_test_split(requiredText, df['category'], test_size=0.2, random_state=42)"
   ]
  },
  {
   "cell_type": "code",
   "execution_count": 22,
   "metadata": {},
   "outputs": [
    {
     "data": {
      "text/plain": [
       "(12682, 186616)"
      ]
     },
     "execution_count": 22,
     "metadata": {},
     "output_type": "execute_result"
    }
   ],
   "source": [
    "X_train.shape\n"
   ]
  },
  {
   "cell_type": "code",
   "execution_count": 23,
   "metadata": {},
   "outputs": [
    {
     "data": {
      "text/plain": [
       "(3171, 186616)"
      ]
     },
     "execution_count": 23,
     "metadata": {},
     "output_type": "execute_result"
    }
   ],
   "source": [
    "X_test.shape"
   ]
  },
  {
   "cell_type": "code",
   "execution_count": 24,
   "metadata": {},
   "outputs": [
    {
     "name": "stdout",
     "output_type": "stream",
     "text": [
      "0.7366761274046042\n"
     ]
    }
   ],
   "source": [
    "from sklearn.neighbors import KNeighborsClassifier\n",
    "from sklearn.multiclass import OneVsRestClassifier\n",
    "from sklearn.metrics import accuracy_score\n",
    "\n",
    "clf = OneVsRestClassifier(KNeighborsClassifier())\n",
    "clf.fit(X_train,y_train)\n",
    "ypred = clf.predict(X_test)\n",
    "print(accuracy_score(y_test,ypred))"
   ]
  },
  {
   "cell_type": "code",
   "execution_count": 25,
   "metadata": {},
   "outputs": [],
   "source": [
    "import pickle\n",
    "pickle.dump(tfidf,open('tfidf.pkl','wb'))\n",
    "pickle.dump(clf, open('clf.pkl', 'wb'))"
   ]
  },
  {
   "cell_type": "code",
   "execution_count": 34,
   "metadata": {},
   "outputs": [],
   "source": [
    "myresume3 = \"\"\"\n",
    "Deepak Padhi\n",
    "Learning Web Developer\n",
    "Mumbai, Maharashtra\n",
    "dnoobnerd@gmail.com\n",
    "8123456790\n",
    "Passionate to learn new technologies, skills and Always willing to innovate new things.\n",
    "EDUCATION Bachelor of Science (B.Sc), Computer Science\n",
    "Kirti M Doongursee College Dadar\n",
    "2021 - Present\n",
    "Senior Secondary (XII), Science\n",
    "Vidyanidhi Jr College Of Science\n",
    "Year of completion: 2020\n",
    "Percentage: 00.00%\n",
    "Secondary (X)\n",
    "St Xavier High School\n",
    "Year of completion: 2018\n",
    "Percentage: 00.00%\n",
    "INTERNSHIPS Crack Leaked Password Database\n",
    "Forage Goldman Sachs\n",
    "(Engineering Virtual Program), Virtual\n",
    "Dec 2020 - Jan 2021\n",
    "Learnt to Analyze results and propose uplifts to controls and\n",
    "policies.\n",
    "Interface With A Stock Price Data Feed\n",
    "Forage Jp Morgan Chase And Co\n",
    "(Software Engineering Virtual Experience), Virtual\n",
    "Nov 2020 - Dec 2020\n",
    "Led to Interface with a stock price data feed and set up my\n",
    "system for analysis of the data, Implement the Perspective\n",
    "open source code in preparation for data visualization, Use\n",
    "Perspective to create the chart for the trader’s dashboard.\n",
    "PROJECTS Resume Analyzer\n",
    "A Résumé parsing tool that converts an unstructured\n",
    "form of resume data into a structured format.\n",
    "WhatsApp Chat Analyzer\n",
    "A Tool that analyses user uploaded chat and as a result\n",
    "visualizes data in different format\n",
    "SKILLS HTML\n",
    "Advanced\n",
    "CSS\n",
    "Intermediate\n",
    "SQL\n",
    "Intermediate\n",
    "Node.js\n",
    "Beginner\n",
    "Python\n",
    "Intermediate\n",
    "JavaScript\n",
    "Intermediate\n",
    "C#\n",
    "Beginner\n",
    "ASP.NET\n",
    "Intermediate\n",
    "Online Profiles Portfolio Website\n",
    "https://dnoobnerd.netlify.app/\n",
    "GitHub Profile\n",
    "https://github.com/deepakpadhi986/\n",
    "\"\"\""
   ]
  },
  {
   "cell_type": "code",
   "execution_count": 35,
   "metadata": {},
   "outputs": [
    {
     "name": "stdout",
     "output_type": "stream",
     "text": [
      "Data Science\n"
     ]
    }
   ],
   "source": [
    "myresume2 = \"\"\"\n",
    "RAFSON JANI\n",
    "JADAVPUR UNIVERSITY - B.E I.T 2024\n",
    "@ aarjey1911@gmail.com # Islampur,West Bengal, India  +91-9799228391 § RJ1911 ï rj1911\n",
    "EXPERIENCE\n",
    "Web Development Intern | Celebal Technologies\n",
    "[June 2023 - Aug 2023]\n",
    "• Developed a comprehensive MERN E-Commerce platform that included\n",
    "features such as product listing, detailed product views, and cart manage\u0002ment system.\n",
    "• Created Admin Panel that facilitated order management, as well as simpli\u0002fied product addition and editing processes.\n",
    "• Integrated advanced functionalities including sorting, filtering, and pagina\u0002tion queries using Mongoose.\n",
    "• Implemented payment options, including secure card payments through\n",
    "Stripe as well as cash payments, ensuring flexibility for users during check\u0002out.\n",
    "• Added personalized features like user profiles, order tracking, and auto\u0002mated email notifications such as order confirmation and password reset\n",
    "emails.\n",
    "• Technologies Used - ReactJs,NodeJs,ExpressJs,Redux, MongoDB.\n",
    "• § RJ1911/mern-ecommerce\n",
    "EDUCATION\n",
    "Jadavpur University\n",
    "B.E Information Technology\n",
    "z CGPA: 8.55 * 2020-2024\n",
    "Sahara Public Senior Secondary School\n",
    "Class XII\n",
    "z Percentage: 82.30% * 2018\n",
    "The Scholar English Medium School\n",
    "Class X\n",
    "z Percentage: 93.20% * 2016\n",
    "TECHNICAL SKILLS\n",
    "• Programming : C/ C++\n",
    "• Development: HTML/CSS,JavaScript,NodeJs,ReactJs,ExpressJs, Boot\u0002strap,TailwindCSS\n",
    "• Databases: MongoDB,MySQL\n",
    "• Dev Tools: VisualStudio Code, Git\n",
    "COURSEWORK\n",
    "Data Structures And Algorithms\n",
    "Object Oriented Programming\n",
    "Database Management System\n",
    "Operating System\n",
    "PROJECTS\n",
    "Chat App\n",
    "• Developed a real-time chat application using MERN stack.\n",
    "• Built RESTful APIs and integrated them with React.js on the\n",
    "front-end to provide a seamless user experience.\n",
    "• Utilized Socket.io to establish bi-directional communica\u0002tion between the server and the client, allowing users to see\n",
    "messages in real time without the need to refresh the page.\n",
    "• Implemented user authentication and authorization using\n",
    "JWT tokens and stored them securely in Local Storage to\n",
    "maintain user sessions across page reloads.\n",
    "• Technologies Used - ReactJs,NodeJs,ExpressJs,Socket.io,\n",
    "MongoDB.\n",
    "• § RJ1911/chat-room\n",
    "Weather App\n",
    "• Developed a weather web app that fetches realtime weather\n",
    "data from the OpenWeather API.\n",
    "• Designed an intuitive user interface that displays current\n",
    "weather conditionslike temperature, humidity.\n",
    "• Deployed the web app using GitHub Pages, ensuring that it\n",
    "is accessible to users all over the world.\n",
    "• Technologies used - HTML/CSS,JavaScript\n",
    "• App Link\n",
    "• § RJ1911/weatherApp.github.io\n",
    "CODING PROFILE\n",
    "Leetcode - AAR_JEY\n",
    "GFG - aar_jey\n",
    "GitHub - RJ1911\n",
    "ACHIEVEMENTS\n",
    "• Solved 500+ problems on various coding platforms\n",
    "• Secured AIR 1122 out of 100,000+ participants in the\n",
    "Codekaze Hiring Challenge 2023.\n",
    "EXTRACURRICULAR\n",
    "• Passionate about Teaching .Conducted private tutoring ses\u0002sions for high school students (grades 9-12) in subjects in\u0002cluding [Phy,Chem,Maths].\n",
    "LANGUAGES\n",
    "• Hindi\n",
    "• English\n",
    "• Bengali\n",
    "\"\"\"\n",
    "# Load the trained classifier\n",
    "clf = pickle.load(open('clf.pkl', 'rb'))\n",
    "\n",
    "# Clean the input resume\n",
    "cleaned_resume = cleanResume2(myresume3)\n",
    "\n",
    "# Transform the cleaned resume using the trained TfidfVectorizer\n",
    "input_features = tfidf.transform([cleaned_resume])\n",
    "\n",
    "# Make the prediction using the loaded classifier\n",
    "prediction_id = clf.predict(input_features)[0]\n",
    "\n",
    "print(prediction_id)"
   ]
  }
 ],
 "metadata": {
  "kernelspec": {
   "display_name": "Python 3",
   "language": "python",
   "name": "python3"
  },
  "language_info": {
   "codemirror_mode": {
    "name": "ipython",
    "version": 3
   },
   "file_extension": ".py",
   "mimetype": "text/x-python",
   "name": "python",
   "nbconvert_exporter": "python",
   "pygments_lexer": "ipython3",
   "version": "3.11.3"
  }
 },
 "nbformat": 4,
 "nbformat_minor": 2
}
